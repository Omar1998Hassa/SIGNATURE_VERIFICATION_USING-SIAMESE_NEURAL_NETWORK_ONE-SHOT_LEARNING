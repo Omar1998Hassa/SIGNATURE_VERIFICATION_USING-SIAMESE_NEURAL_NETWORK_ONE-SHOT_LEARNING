{
 "cells": [
  {
   "cell_type": "markdown",
   "id": "unique-friendly",
   "metadata": {
    "papermill": {
     "duration": 0.031552,
     "end_time": "2024-04-06T00:14:51.501603",
     "exception": false,
     "start_time": "2024-04-06T00:14:51.470051",
     "status": "completed"
    },
    "tags": []
   },
   "source": [
    "## **SIGNATURE VERIFICATION USING SIAMESE NEURAL NETWORK ONE-SHOT LEARNING**\n",
    "\n",
    "We're implementing a **signature verification system** using Siamese Neural Networks and one-shot learning. Our dataset comprises signature samples from various sources, organized by individual, enabling us to train the network to recognize genuine and impostor signatures. By preprocessing the data and constructing a **Siamese Networks** architecture with twin subnetworks, we aim to learn embeddings that capture signature similarity. Training involves utilizing contrastive loss and one-shot learning techniques to generalize well with limited data. We'll evaluate the model's performance on a separate test set, assessing accuracy and robustness to variations in signature style and noise. This system promises to enhance security measures by accurately verifying the authenticity of signatures in various applications, from legal documentation to financial transactions."
   ]
  },
  {
   "cell_type": "code",
   "execution_count": 1,
   "id": "decent-diagnosis",
   "metadata": {
    "execution": {
     "iopub.execute_input": "2024-04-06T00:14:51.566989Z",
     "iopub.status.busy": "2024-04-06T00:14:51.566415Z",
     "iopub.status.idle": "2024-04-06T00:14:51.568981Z",
     "shell.execute_reply": "2024-04-06T00:14:51.568358Z",
     "shell.execute_reply.started": "2024-04-06T00:11:34.097361Z"
    },
    "papermill": {
     "duration": 0.037493,
     "end_time": "2024-04-06T00:14:51.569126",
     "exception": false,
     "start_time": "2024-04-06T00:14:51.531633",
     "status": "completed"
    },
    "tags": []
   },
   "outputs": [],
   "source": [
    "# import pandas as pd\n",
    "\n",
    "# # Read the CSV file\n",
    "# df = pd.read_csv('/kaggle/input/cv-signs/CV_Signature_Dataset/personA/Train/personA_SigVerificationTrainLabels.csv')\n",
    "\n",
    "# # # Display the contents of the DataFrame\n",
    "# # print(\"Original DataFrame:\")\n",
    "# # print(df)\n",
    "\n",
    "# # # Edit the DataFrame (for example, add a new column)\n",
    "# # df['New_Column'] = ['value1', 'value2', 'value3']  # Replace 'value1', 'value2', 'value3' with your desired values\n",
    "\n",
    "# # # Write the modified DataFrame back to a CSV file\n",
    "# # df.to_csv('/kaggle/working/modified_data.csv', index=False)\n",
    "\n",
    "# # # Display a message indicating that the file has been saved\n",
    "# # print(\"Modified CSV file saved successfully.\")"
   ]
  },
  {
   "cell_type": "code",
   "execution_count": 2,
   "id": "certain-intake",
   "metadata": {
    "execution": {
     "iopub.execute_input": "2024-04-06T00:14:51.633085Z",
     "iopub.status.busy": "2024-04-06T00:14:51.632428Z",
     "iopub.status.idle": "2024-04-06T00:14:51.635168Z",
     "shell.execute_reply": "2024-04-06T00:14:51.634655Z",
     "shell.execute_reply.started": "2024-04-06T00:11:40.749851Z"
    },
    "papermill": {
     "duration": 0.036082,
     "end_time": "2024-04-06T00:14:51.635308",
     "exception": false,
     "start_time": "2024-04-06T00:14:51.599226",
     "status": "completed"
    },
    "tags": []
   },
   "outputs": [],
   "source": [
    "# print(df)"
   ]
  },
  {
   "cell_type": "code",
   "execution_count": 3,
   "id": "static-bangkok",
   "metadata": {
    "execution": {
     "iopub.execute_input": "2024-04-06T00:14:51.698571Z",
     "iopub.status.busy": "2024-04-06T00:14:51.697963Z",
     "iopub.status.idle": "2024-04-06T00:14:51.700376Z",
     "shell.execute_reply": "2024-04-06T00:14:51.700794Z",
     "shell.execute_reply.started": "2024-04-06T00:11:41.073892Z"
    },
    "papermill": {
     "duration": 0.03583,
     "end_time": "2024-04-06T00:14:51.700937",
     "exception": false,
     "start_time": "2024-04-06T00:14:51.665107",
     "status": "completed"
    },
    "tags": []
   },
   "outputs": [],
   "source": [
    "# df = df.drop(7)"
   ]
  },
  {
   "cell_type": "code",
   "execution_count": 4,
   "id": "lonely-instrument",
   "metadata": {
    "execution": {
     "iopub.execute_input": "2024-04-06T00:14:51.764146Z",
     "iopub.status.busy": "2024-04-06T00:14:51.763566Z",
     "iopub.status.idle": "2024-04-06T00:14:51.766428Z",
     "shell.execute_reply": "2024-04-06T00:14:51.765842Z",
     "shell.execute_reply.started": "2024-04-06T00:11:42.024781Z"
    },
    "papermill": {
     "duration": 0.035639,
     "end_time": "2024-04-06T00:14:51.766546",
     "exception": false,
     "start_time": "2024-04-06T00:14:51.730907",
     "status": "completed"
    },
    "tags": []
   },
   "outputs": [],
   "source": [
    "# df"
   ]
  },
  {
   "cell_type": "code",
   "execution_count": 5,
   "id": "following-elements",
   "metadata": {
    "execution": {
     "iopub.execute_input": "2024-04-06T00:14:51.829920Z",
     "iopub.status.busy": "2024-04-06T00:14:51.829293Z",
     "iopub.status.idle": "2024-04-06T00:14:51.832246Z",
     "shell.execute_reply": "2024-04-06T00:14:51.831640Z",
     "shell.execute_reply.started": "2024-04-06T00:11:42.553755Z"
    },
    "papermill": {
     "duration": 0.035967,
     "end_time": "2024-04-06T00:14:51.832416",
     "exception": false,
     "start_time": "2024-04-06T00:14:51.796449",
     "status": "completed"
    },
    "tags": []
   },
   "outputs": [],
   "source": [
    "# df.to_csv('/kaggle/input/cv-signs/CV_Signature_Dataset/personA/Train/personA_SigVerificationTrainLabels.csv', index=False)"
   ]
  },
  {
   "cell_type": "markdown",
   "id": "secondary-director",
   "metadata": {
    "papermill": {
     "duration": 0.029701,
     "end_time": "2024-04-06T00:14:51.891969",
     "exception": false,
     "start_time": "2024-04-06T00:14:51.862268",
     "status": "completed"
    },
    "tags": []
   },
   "source": [
    "## **Reading the Dataset**\n",
    "\n",
    "We're reading the folders and splitting them into **train and test set** for training purposes."
   ]
  },
  {
   "cell_type": "code",
   "execution_count": 6,
   "id": "interstate-afternoon",
   "metadata": {
    "execution": {
     "iopub.execute_input": "2024-04-06T00:14:51.961961Z",
     "iopub.status.busy": "2024-04-06T00:14:51.961333Z",
     "iopub.status.idle": "2024-04-06T00:14:57.365449Z",
     "shell.execute_reply": "2024-04-06T00:14:57.364838Z",
     "shell.execute_reply.started": "2024-04-06T00:11:43.310666Z"
    },
    "papermill": {
     "duration": 5.443879,
     "end_time": "2024-04-06T00:14:57.365585",
     "exception": false,
     "start_time": "2024-04-06T00:14:51.921706",
     "status": "completed"
    },
    "tags": []
   },
   "outputs": [
    {
     "data": {
      "text/plain": [
       "('2.4.1', '1.19.5')"
      ]
     },
     "execution_count": 6,
     "metadata": {},
     "output_type": "execute_result"
    }
   ],
   "source": [
    "import os\n",
    "import cv2\n",
    "import time\n",
    "import random\n",
    "import numpy as np\n",
    "import os\n",
    "import random\n",
    "import csv \n",
    "\n",
    "import tensorflow as tf\n",
    "from tensorflow.keras.applications.inception_v3 import preprocess_input\n",
    "\n",
    "import seaborn as sns\n",
    "import matplotlib.pyplot as plt\n",
    "tf.__version__, np.__version__"
   ]
  },
  {
   "cell_type": "code",
   "execution_count": 7,
   "id": "adaptive-glasgow",
   "metadata": {
    "execution": {
     "iopub.execute_input": "2024-04-06T00:14:57.432946Z",
     "iopub.status.busy": "2024-04-06T00:14:57.432118Z",
     "iopub.status.idle": "2024-04-06T00:14:57.434417Z",
     "shell.execute_reply": "2024-04-06T00:14:57.434902Z",
     "shell.execute_reply.started": "2024-04-06T00:11:48.755180Z"
    },
    "papermill": {
     "duration": 0.03902,
     "end_time": "2024-04-06T00:14:57.435034",
     "exception": false,
     "start_time": "2024-04-06T00:14:57.396014",
     "status": "completed"
    },
    "tags": []
   },
   "outputs": [],
   "source": [
    "# Setting random seeds to enable consistency while testing.\n",
    "random.seed(5)\n",
    "np.random.seed(5)\n",
    "tf.random.set_seed(5)\n",
    "\n",
    "ROOT = \"/kaggle/input/cv-signs-data2/CV_Signature_Dataset\"\n",
    "\n",
    "def read_image(index):\n",
    "    path = os.path.join(ROOT, index[0], index[1])\n",
    "#     print(path)\n",
    "    image = cv2.imread(path).astype(np.float32)\n",
    "#     print(image)\n",
    "    image = cv2.cvtColor(image, cv2.COLOR_BGR2RGB)\n",
    "    image= cv2.resize(image, (128, 128))\n",
    "#     print(image.shape)\n",
    "    return image"
   ]
  },
  {
   "cell_type": "code",
   "execution_count": 8,
   "id": "imposed-header",
   "metadata": {
    "execution": {
     "iopub.execute_input": "2024-04-06T00:14:57.502722Z",
     "iopub.status.busy": "2024-04-06T00:14:57.502054Z",
     "iopub.status.idle": "2024-04-06T00:14:57.572737Z",
     "shell.execute_reply": "2024-04-06T00:14:57.572086Z",
     "shell.execute_reply.started": "2024-04-06T00:11:48.762995Z"
    },
    "papermill": {
     "duration": 0.107673,
     "end_time": "2024-04-06T00:14:57.572860",
     "exception": false,
     "start_time": "2024-04-06T00:14:57.465187",
     "status": "completed"
    },
    "tags": []
   },
   "outputs": [
    {
     "name": "stdout",
     "output_type": "stream",
     "text": [
      "Length of training list: 5\n",
      "Length of testing list : 5\n",
      "\n",
      "Test List: {'personD/Test': 8, 'personA/Test': 8, 'personC/Test': 8, 'personE/Test': 8, 'personB/Test': 8}\n",
      "\n",
      "Train List: {'personD/Train': 40, 'personA/Train': 40, 'personC/Train': 40, 'personE/Train': 40, 'personB/Train': 40}\n"
     ]
    }
   ],
   "source": [
    "def split_dataset(directory):\n",
    "    persons = os.listdir(directory)\n",
    "#     print(persons)\n",
    "    #num_train = int(len(folders)*split)\n",
    "    \n",
    "    random.shuffle(persons)\n",
    "    \n",
    "    train_list, test_list = {}, {}\n",
    "    for person_folder in persons:\n",
    "        person_train_folder_path = os.path.join(directory, person_folder, 'Train')\n",
    "        person_test_folder_path = os.path.join(directory, person_folder, 'Test')\n",
    "#         personsTrainFiles = os.listdir(person_train_folder_path)\n",
    "#         personsTestFiles = os.listdir(person_test_folder_path)\n",
    "#         random.shuffle(personsTrainFiles)\n",
    "#         random.shuffle(personsTrainFiles)\n",
    "        train_list[person_folder+\"/Train\"] = len(os.listdir(person_train_folder_path))-1\n",
    "        test_list[person_folder+\"/Test\"] = len(os.listdir(person_test_folder_path)) -1 \n",
    "        \n",
    "    # Creating Train-list\n",
    "#         for folder in personsTrainFiles:\n",
    "#             num_files = len(os.listdir(os.path.join(person_train_folder_path, folder)))\n",
    "#             train_list[folder] = num_files\n",
    "\n",
    "#         # Creating Test-list\n",
    "#         for folder in personsTestFiles:\n",
    "#             num_files = len(os.listdir(os.path.join(person_test_folder_path, folder)))\n",
    "#             test_list[folder] = num_files  \n",
    "            \n",
    "#     print(train_list)\n",
    "#     print(test_list)\n",
    "    return train_list, test_list\n",
    "\n",
    "train_list, test_list = split_dataset(ROOT)\n",
    "print(\"Length of training list:\", len(train_list))\n",
    "print(\"Length of testing list :\", len(test_list))\n",
    "\n",
    "# train_list, test list contains the folder names along with the number of files in the folder.\n",
    "print(\"\\nTest List:\", test_list)\n",
    "print(\"\\nTrain List:\", train_list)"
   ]
  },
  {
   "cell_type": "markdown",
   "id": "retired-lindsay",
   "metadata": {
    "papermill": {
     "duration": 0.030142,
     "end_time": "2024-04-06T00:14:57.633682",
     "exception": false,
     "start_time": "2024-04-06T00:14:57.603540",
     "status": "completed"
    },
    "tags": []
   },
   "source": [
    "### Creating Triplets\n",
    "\n",
    "We use the train and test list to create triplets of **(anchor, postive, negative)** face data, where positive is the same person and negative is a different person than anchor."
   ]
  },
  {
   "cell_type": "code",
   "execution_count": 9,
   "id": "african-kennedy",
   "metadata": {
    "execution": {
     "iopub.execute_input": "2024-04-06T00:14:57.701813Z",
     "iopub.status.busy": "2024-04-06T00:14:57.701212Z",
     "iopub.status.idle": "2024-04-06T00:14:57.704136Z",
     "shell.execute_reply": "2024-04-06T00:14:57.703564Z",
     "shell.execute_reply.started": "2024-04-06T00:11:48.867568Z"
    },
    "papermill": {
     "duration": 0.040166,
     "end_time": "2024-04-06T00:14:57.704246",
     "exception": false,
     "start_time": "2024-04-06T00:14:57.664080",
     "status": "completed"
    },
    "tags": []
   },
   "outputs": [],
   "source": [
    "def load_data_from_csv(csv_file):\n",
    "    images = []\n",
    "    labels = []\n",
    "    with open(csv_file, 'r') as file:\n",
    "        reader = csv.reader(file)\n",
    "        next(reader)  # Skip header\n",
    "        for row in reader:\n",
    "            image_path = row[0]  # Assuming the path is in the first column\n",
    "            label = row[1]  # Assuming the label is in the second column\n",
    "            images.append(image_path)\n",
    "            labels.append(label)\n",
    "    return images, labels"
   ]
  },
  {
   "cell_type": "code",
   "execution_count": 11,
   "id": "hazardous-wichita",
   "metadata": {
    "execution": {
     "iopub.execute_input": "2024-04-06T00:14:57.846062Z",
     "iopub.status.busy": "2024-04-06T00:14:57.845463Z",
     "iopub.status.idle": "2024-04-06T00:14:57.848250Z",
     "shell.execute_reply": "2024-04-06T00:14:57.847801Z",
     "shell.execute_reply.started": "2024-04-06T00:11:48.888973Z"
    },
    "papermill": {
     "duration": 0.044784,
     "end_time": "2024-04-06T00:14:57.848406",
     "exception": false,
     "start_time": "2024-04-06T00:14:57.803622",
     "status": "completed"
    },
    "tags": []
   },
   "outputs": [],
   "source": [
    "def create_triplets(directory, folder_list, max_files=40):\n",
    "    triplets = []\n",
    "    folders = list(folder_list.keys())\n",
    "    print(folders)\n",
    "    for folder in folders:\n",
    "        path = os.path.join(directory, folder)\n",
    "        print(path)\n",
    "        files = list(os.listdir(path))[:max_files]\n",
    "        print(files)\n",
    "        num_files = len(files)\n",
    "        csv_file_name=[file for file in os.listdir(directory + \"/\" +folder) if file.endswith('.csv')][0]\n",
    "        csv_file_path = os.path.join(directory + \"/\"+folder, csv_file_name)\n",
    "        print(csv_file_path)\n",
    "        images, labels = load_data_from_csv(csv_file_path)\n",
    "        #print(images, labels)\n",
    "        positive_images= [img for img,l in zip(images, labels) if l ==\"real\"]\n",
    "        negative_images= [img for img,l in zip(images, labels) if l ==\"forged\"]\n",
    "        \n",
    "        num_positive_files = min(len(positive_images), max_files)\n",
    "        num_negative_files = min(len(negative_images), max_files)\n",
    "#         print(num_positive_files)\n",
    "#         print(num_negative_files)\n",
    "        \n",
    "        for i in range(num_positive_files):\n",
    "            for j in range(num_positive_files):\n",
    "                if i != j:  # Make sure anchor and positive are different images\n",
    "                    anchor = (folder, positive_images[i])\n",
    "                    positive = (folder, positive_images[j])\n",
    "\n",
    "                    # Randomly select a negative example\n",
    "                    neg_image = random.choice(negative_images)\n",
    "                    negative = (folder, neg_image)\n",
    "\n",
    "                    triplets.append((anchor, positive, negative))\n",
    "        \n",
    "#         for i in range(num_negative_files):\n",
    "#             for j in range(num_negative_files):\n",
    "#                 if i != j:  # Make sure anchor and positive are different images\n",
    "#                     anchor = (folder, negative_images[i])\n",
    "#                     positive = (folder, negative_images[j])\n",
    "\n",
    "#                     # Randomly select a positive example\n",
    "#                     pos_image = random.choice(positive_images)\n",
    "#                     negative = (folder, pos_image)\n",
    "\n",
    "#                     triplets.append((anchor, positive, negative))\n",
    "            \n",
    "    random.shuffle(triplets)\n",
    "    return triplets"
   ]
  },
  {
   "cell_type": "code",
   "execution_count": 12,
   "id": "northern-access",
   "metadata": {
    "execution": {
     "iopub.execute_input": "2024-04-06T00:14:57.914281Z",
     "iopub.status.busy": "2024-04-06T00:14:57.913621Z",
     "iopub.status.idle": "2024-04-06T00:14:57.963651Z",
     "shell.execute_reply": "2024-04-06T00:14:57.963034Z",
     "shell.execute_reply.started": "2024-04-06T00:11:48.902358Z"
    },
    "papermill": {
     "duration": 0.084775,
     "end_time": "2024-04-06T00:14:57.963770",
     "exception": false,
     "start_time": "2024-04-06T00:14:57.878995",
     "status": "completed"
    },
    "tags": []
   },
   "outputs": [
    {
     "name": "stdout",
     "output_type": "stream",
     "text": [
      "['personD/Train', 'personA/Train', 'personC/Train', 'personE/Train', 'personB/Train']\n",
      "/kaggle/input/cv-signs-data2/CV_Signature_Dataset/personD/Train\n",
      "['personD_20.png', 'personD_45.png', 'personD_5.png', 'personD_12.png', 'personD_1.png', 'personD_13.png', 'personD_25.png', 'personD_35.png', 'personD_8.png', 'personD_9.png', 'personD_23.png', 'personD_30.png', 'personD_16.png', 'personD_38.png', 'personD_39.png', 'personD_2.png', 'personD_SigVerificationTrainLabels.csv', 'personD_7.png', 'personD_44.png', 'personD_37.png', 'personD_10.png', 'personD_3.png', 'personD_19.png', 'personD_42.png', 'personD_36.png', 'personD_27.png', 'personD_29.png', 'personD_11.png', 'personD_48.png', 'personD_47.png', 'personD_24.png', 'personD_28.png', 'personD_32.png', 'personD_46.png', 'personD_18.png', 'personD_43.png', 'personD_34.png', 'personD_33.png', 'personD_40.png', 'personD_4.png']\n",
      "/kaggle/input/cv-signs-data2/CV_Signature_Dataset/personD/Train/personD_SigVerificationTrainLabels.csv\n",
      "/kaggle/input/cv-signs-data2/CV_Signature_Dataset/personA/Train\n",
      "['personA_8.png', 'personA_45.png', 'personA_12.png', 'personA_9.png', 'personA_7.png', 'personA_11.png', 'personA_40.png', 'personA_21.png', 'personA_18.png', 'personA_41.png', 'personA_31.png', 'personA_1.png', 'personA_32.png', 'personA_33.png', 'personA_24.png', 'personA_39.png', 'personA_16.png', 'personA_35.png', 'personA_28.png', 'personA_47.png', 'personA_17.png', 'personA_19.png', 'personA_3.png', 'personA_38.png', 'personA_34.png', 'personA_43.png', 'personA_46.png', 'personA_SigVerificationTrainLabels.csv', 'personA_14.png', 'personA_22.png', 'personA_44.png', 'personA_4.png', 'personA_6.png', 'personA_5.png', 'personA_37.png', 'personA_36.png', 'personA_23.png', 'personA_25.png', 'personA_48.png', 'personA_26.png']\n",
      "/kaggle/input/cv-signs-data2/CV_Signature_Dataset/personA/Train/personA_SigVerificationTrainLabels.csv\n",
      "/kaggle/input/cv-signs-data2/CV_Signature_Dataset/personC/Train\n",
      "['personC_21.png', 'personC_3.png', 'personC_48.png', 'personC_10.png', 'personC_44.png', 'personC_35.png', 'personC_26.png', 'personC_1.png', 'personC_7.png', 'personC_15.png', 'personC_2.png', 'personC_9.png', 'personC_47.png', 'personC_4.png', 'personC_37.png', 'personC_23.png', 'personC_43.png', 'personC_24.png', 'personC_31.png', 'personC_29.png', 'personC_28.png', 'personC_18.png', 'personC_46.png', 'personC_27.png', 'personC_5.png', 'personC_30.png', 'personC_22.png', 'personC_16.png', 'personC_11.png', 'personC_20.png', 'personC_36.png', 'personC_42.png', 'personC_12.png', 'personC_45.png', 'personC_41.png', 'personC_SigVerificationTrainLabels.csv', 'personC_33.png', 'personC_25.png', 'personC_40.png', 'personC_14.png']\n",
      "/kaggle/input/cv-signs-data2/CV_Signature_Dataset/personC/Train/personC_SigVerificationTrainLabels.csv\n",
      "/kaggle/input/cv-signs-data2/CV_Signature_Dataset/personE/Train\n",
      "['personE_28.png', 'personE_13.png', 'personE_6.png', 'personE_1.png', 'personE_SigVerificationTrainLabels.csv', 'personE_48.png', 'personE_38.png', 'personE_2.png', 'personE_41.png', 'personE_21.png', 'personE_29.png', 'personE_25.png', 'personE_42.png', 'personE_43.png', 'personE_14.png', 'personE_45.png', 'personE_19.png', 'personE_37.png', 'personE_8.png', 'personE_9.png', 'personE_20.png', 'personE_5.png', 'personE_4.png', 'personE_31.png', 'personE_23.png', 'personE_10.png', 'personE_47.png', 'personE_16.png', 'personE_44.png', 'personE_11.png', 'personE_24.png', 'personE_26.png', 'personE_36.png', 'personE_7.png', 'personE_34.png', 'personE_30.png', 'personE_3.png', 'personE_12.png', 'personE_46.png', 'personE_39.png']\n",
      "/kaggle/input/cv-signs-data2/CV_Signature_Dataset/personE/Train/personE_SigVerificationTrainLabels.csv\n",
      "/kaggle/input/cv-signs-data2/CV_Signature_Dataset/personB/Train\n",
      "['personB_46.png', 'personB_4.png', 'personB_45.png', 'personB_1.png', 'personB_26.png', 'personB_14.png', 'personB_34.png', 'personB_17.png', 'personB_47.png', 'personB_23.png', 'personB_22.png', 'personB_43.png', 'personB_21.png', 'personB_44.png', 'personB_18.png', 'personB_6.png', 'personB_38.png', 'personB_15.png', 'personB_9.png', 'personB_12.png', 'personB_48.png', 'personB_8.png', 'personB_19.png', 'personB_24.png', 'personB_3.png', 'personB_25.png', 'personB_7.png', 'personB_31.png', 'personB_32.png', 'personB_SigVerificationTrainLabels.csv', 'personB_5.png', 'personB_11.png', 'personB_41.png', 'personB_35.png', 'personB_30.png', 'personB_40.png', 'personB_16.png', 'personB_36.png', 'personB_37.png', 'personB_39.png']\n",
      "/kaggle/input/cv-signs-data2/CV_Signature_Dataset/personB/Train/personB_SigVerificationTrainLabels.csv\n",
      "['personD/Test', 'personA/Test', 'personC/Test', 'personE/Test', 'personB/Test']\n",
      "/kaggle/input/cv-signs-data2/CV_Signature_Dataset/personD/Test\n",
      "['personD_21.png', 'personD_17.png', 'personD_15.png', 'personD_26.png', 'personD_31.png', 'personD_41.png', 'personD_14.png', 'personD_SigVerificationTestLabels.csv', 'personD_22.png']\n",
      "/kaggle/input/cv-signs-data2/CV_Signature_Dataset/personD/Test/personD_SigVerificationTestLabels.csv\n",
      "/kaggle/input/cv-signs-data2/CV_Signature_Dataset/personA/Test\n",
      "['personA_2.png', 'personA_SigVerificationTestLabels.csv', 'personA_42.png', 'personA_29.png', 'personA_10.png', 'personA_20.png', 'personA_27.png', 'personA_13.png', 'personA_30.png']\n",
      "/kaggle/input/cv-signs-data2/CV_Signature_Dataset/personA/Test/personA_SigVerificationTestLabels.csv\n",
      "/kaggle/input/cv-signs-data2/CV_Signature_Dataset/personC/Test\n",
      "['personC_17.png', 'personC_13.png', 'personC_39.png', 'personC_34.png', 'personC_19.png', 'personC_SigVerificationTestLabels.csv', 'personC_32.png', 'personC_6.png', 'personC_8.png']\n",
      "/kaggle/input/cv-signs-data2/CV_Signature_Dataset/personC/Test/personC_SigVerificationTestLabels.csv\n",
      "/kaggle/input/cv-signs-data2/CV_Signature_Dataset/personE/Test\n",
      "['personE_22.png', 'personE_32.png', 'personE_40.png', 'personE_15.png', 'personE_17.png', 'personE_18.png', 'personE_35.png', 'personE_SigVerificationTestLabels.csv', 'personE_27.png']\n",
      "/kaggle/input/cv-signs-data2/CV_Signature_Dataset/personE/Test/personE_SigVerificationTestLabels.csv\n",
      "/kaggle/input/cv-signs-data2/CV_Signature_Dataset/personB/Test\n",
      "['personB_2.png', 'personB_20.png', 'personB_13.png', 'personB_27.png', 'personB_42.png', 'personB_33.png', 'personB_10.png', 'personB_29.png', 'personB_SigVerificationTestLabels.csv']\n",
      "/kaggle/input/cv-signs-data2/CV_Signature_Dataset/personB/Test/personB_SigVerificationTestLabels.csv\n",
      "Number of training triplets: 1900\n",
      "Number of testing triplets : 60\n",
      "\n",
      "Examples of triplets:\n",
      "(('personC/Train', 'personC_41.png'), ('personC/Train', 'personC_5.png'), ('personC/Train', 'personC_3.png'))\n",
      "(('personE/Train', 'personE_21.png'), ('personE/Train', 'personE_48.png'), ('personE/Train', 'personE_14.png'))\n",
      "(('personD/Train', 'personD_36.png'), ('personD/Train', 'personD_46.png'), ('personD/Train', 'personD_11.png'))\n",
      "(('personC/Train', 'personC_45.png'), ('personC/Train', 'personC_46.png'), ('personC/Train', 'personC_12.png'))\n",
      "(('personC/Train', 'personC_46.png'), ('personC/Train', 'personC_10.png'), ('personC/Train', 'personC_22.png'))\n",
      "(('personD/Test', 'personD_22.png'), ('personD/Test', 'personD_31.png'), ('personD/Test', 'personD_14.png'))\n",
      "(('personD/Test', 'personD_22.png'), ('personD/Test', 'personD_21.png'), ('personD/Test', 'personD_41.png'))\n",
      "(('personC/Test', 'personC_17.png'), ('personC/Test', 'personC_34.png'), ('personC/Test', 'personC_19.png'))\n",
      "(('personA/Test', 'personA_27.png'), ('personA/Test', 'personA_13.png'), ('personA/Test', 'personA_2.png'))\n",
      "(('personE/Test', 'personE_35.png'), ('personE/Test', 'personE_22.png'), ('personE/Test', 'personE_17.png'))\n"
     ]
    }
   ],
   "source": [
    "train_triplet = create_triplets(ROOT, train_list)\n",
    "test_triplet  = create_triplets(ROOT, test_list)\n",
    "\n",
    "print(\"Number of training triplets:\", len(train_triplet))\n",
    "print(\"Number of testing triplets :\", len(test_triplet))\n",
    "\n",
    "print(\"\\nExamples of triplets:\")\n",
    "for i in range(5):\n",
    "    print(train_triplet[i])\n",
    "    \n",
    "for i in range(5):\n",
    "    print(test_triplet[i])    "
   ]
  },
  {
   "cell_type": "markdown",
   "id": "pacific-median",
   "metadata": {
    "papermill": {
     "duration": 0.030533,
     "end_time": "2024-04-06T00:14:58.025980",
     "exception": false,
     "start_time": "2024-04-06T00:14:57.995447",
     "status": "completed"
    },
    "tags": []
   },
   "source": [
    "### Creating Batch-Generator\n",
    "\n",
    "Creating a **Batch-Generator** that converts the triplets passed into batches of face-data and **preproccesses** it before returning the data into seperate lists.\n",
    "\n",
    "**Parameters:**\n",
    "- Batch_size: Batch_size of the data to return\n",
    "- Preprocess: Whether to preprocess the data or not"
   ]
  },
  {
   "cell_type": "code",
   "execution_count": 13,
   "id": "minor-target",
   "metadata": {
    "execution": {
     "iopub.execute_input": "2024-04-06T00:14:58.096067Z",
     "iopub.status.busy": "2024-04-06T00:14:58.095480Z",
     "iopub.status.idle": "2024-04-06T00:14:58.098210Z",
     "shell.execute_reply": "2024-04-06T00:14:58.097723Z",
     "shell.execute_reply.started": "2024-04-06T00:11:48.980643Z"
    },
    "papermill": {
     "duration": 0.041221,
     "end_time": "2024-04-06T00:14:58.098345",
     "exception": false,
     "start_time": "2024-04-06T00:14:58.057124",
     "status": "completed"
    },
    "tags": []
   },
   "outputs": [],
   "source": [
    "def get_batch(triplet_list, batch_size=256, preprocess=True):\n",
    "    batch_steps = len(triplet_list)//batch_size\n",
    "    \n",
    "    for i in range(batch_steps+1):\n",
    "        anchor   = []\n",
    "        positive = []\n",
    "        negative = []\n",
    "        \n",
    "        j = i*batch_size\n",
    "        while j<(i+1)*batch_size and j<len(triplet_list):\n",
    "            a, p, n = triplet_list[j]\n",
    "#             print(\"a\")\n",
    "            anchor.append(read_image(a))\n",
    "            positive.append(read_image(p))\n",
    "            negative.append(read_image(n))\n",
    "            j+=1\n",
    "            \n",
    "        anchor = np.array(anchor)\n",
    "        positive = np.array(positive)\n",
    "        negative = np.array(negative)\n",
    "        \n",
    "        if preprocess:\n",
    "            anchor = preprocess_input(anchor)\n",
    "            positive = preprocess_input(positive)\n",
    "            negative = preprocess_input(negative)\n",
    "        \n",
    "        yield ([anchor, positive, negative])"
   ]
  },
  {
   "cell_type": "markdown",
   "id": "neutral-edwards",
   "metadata": {
    "papermill": {
     "duration": 0.031104,
     "end_time": "2024-04-06T00:14:58.162438",
     "exception": false,
     "start_time": "2024-04-06T00:14:58.131334",
     "status": "completed"
    },
    "tags": []
   },
   "source": [
    "### Plotting the Data\n",
    "\n",
    "Plotting the data generated from **get_batch()** to see the results"
   ]
  },
  {
   "cell_type": "code",
   "execution_count": 14,
   "id": "stable-jimmy",
   "metadata": {
    "execution": {
     "iopub.execute_input": "2024-04-06T00:14:58.248016Z",
     "iopub.status.busy": "2024-04-06T00:14:58.247415Z",
     "iopub.status.idle": "2024-04-06T00:15:00.519557Z",
     "shell.execute_reply": "2024-04-06T00:15:00.520064Z",
     "shell.execute_reply.started": "2024-04-06T00:11:48.990235Z"
    },
    "papermill": {
     "duration": 2.32677,
     "end_time": "2024-04-06T00:15:00.520229",
     "exception": false,
     "start_time": "2024-04-06T00:14:58.193459",
     "status": "completed"
    },
    "tags": []
   },
   "outputs": [
    {
     "data": {
      "image/png": "[encoded data removed]",
      "text/plain": [
       "<Figure size 1080x1440 with 18 Axes>"
      ]
     },
     "metadata": {
      "needs_background": "light"
     },
     "output_type": "display_data"
    }
   ],
   "source": [
    "num_plots = 6\n",
    "\n",
    "f, axes = plt.subplots(num_plots, 3, figsize=(15, 20))\n",
    "\n",
    "for x in get_batch(train_triplet, batch_size=num_plots, preprocess=False):\n",
    "    a,p,n = x\n",
    "    for i in range(num_plots):\n",
    "        axes[i, 0].imshow(a[i])\n",
    "        axes[i, 1].imshow(p[i])\n",
    "        axes[i, 2].imshow(n[i])\n",
    "        i+=1\n",
    "    break"
   ]
  },
  {
   "cell_type": "markdown",
   "id": "solar-butter",
   "metadata": {
    "papermill": {
     "duration": 0.034916,
     "end_time": "2024-04-06T00:15:00.590999",
     "exception": false,
     "start_time": "2024-04-06T00:15:00.556083",
     "status": "completed"
    },
    "tags": []
   },
   "source": [
    "## **Creating the Model**\n",
    "\n",
    "Unlike a conventional CNN, the **Siamese Network** does not classify the images into certain categories or labels, rather it only finds out the distance between any two given images. If the images have the same label, then the network should learn the parameters, i.e. the weights and the biases in such a way that it should produce a smaller distance between the two images, and if they belong to different labels, then the distance should be larger\n",
    "\n",
    "![Siamese Network Image](https://miro.medium.com/max/2000/1*05hUCDHhnl4hdjqvdVTHtw.png)"
   ]
  },
  {
   "cell_type": "code",
   "execution_count": 15,
   "id": "smooth-hybrid",
   "metadata": {
    "execution": {
     "iopub.execute_input": "2024-04-06T00:15:00.666881Z",
     "iopub.status.busy": "2024-04-06T00:15:00.666082Z",
     "iopub.status.idle": "2024-04-06T00:15:00.807932Z",
     "shell.execute_reply": "2024-04-06T00:15:00.807389Z",
     "shell.execute_reply.started": "2024-04-06T00:11:51.376309Z"
    },
    "papermill": {
     "duration": 0.182127,
     "end_time": "2024-04-06T00:15:00.808062",
     "exception": false,
     "start_time": "2024-04-06T00:15:00.625935",
     "status": "completed"
    },
    "tags": []
   },
   "outputs": [],
   "source": [
    "from tensorflow.keras import backend, layers, metrics\n",
    "\n",
    "from tensorflow.keras.optimizers import Adam\n",
    "from tensorflow.keras.applications import Xception\n",
    "from tensorflow.keras.models import Model, Sequential\n",
    "\n",
    "from tensorflow.keras.utils import plot_model\n",
    "from sklearn.metrics import accuracy_score, confusion_matrix, classification_report"
   ]
  },
  {
   "cell_type": "markdown",
   "id": "contained-college",
   "metadata": {
    "papermill": {
     "duration": 0.034835,
     "end_time": "2024-04-06T00:15:00.878428",
     "exception": false,
     "start_time": "2024-04-06T00:15:00.843593",
     "status": "completed"
    },
    "tags": []
   },
   "source": [
    "### Encoder\n",
    "\n",
    "The **Encoder** is responsible for converting the passed images into their feature vectors. We're using a pretrained model, **Xception model** which is based on **Inception_V3 model.** By using transfer learning, we can significantly reduce the training time and size of the dataset.\n",
    "\n",
    "The Model is connected to **Fully Connected (Dense)** layers and the last layer normalises the data using **L2 Normalisation**. *(L2 Normalisation is a technique that modifies the dataset values in a way that in each row the sum of the squares will always be up to 1)*"
   ]
  },
  {
   "cell_type": "code",
   "execution_count": 16,
   "id": "norman-alliance",
   "metadata": {
    "execution": {
     "iopub.execute_input": "2024-04-06T00:15:00.956464Z",
     "iopub.status.busy": "2024-04-06T00:15:00.955562Z",
     "iopub.status.idle": "2024-04-06T00:15:00.958231Z",
     "shell.execute_reply": "2024-04-06T00:15:00.957736Z",
     "shell.execute_reply.started": "2024-04-06T00:11:51.751883Z"
    },
    "papermill": {
     "duration": 0.044882,
     "end_time": "2024-04-06T00:15:00.958390",
     "exception": false,
     "start_time": "2024-04-06T00:15:00.913508",
     "status": "completed"
    },
    "tags": []
   },
   "outputs": [],
   "source": [
    "def get_encoder(input_shape):\n",
    "    \"\"\" Returns the image encoding model \"\"\"\n",
    "\n",
    "    pretrained_model = Xception(\n",
    "        input_shape=input_shape,\n",
    "        weights='imagenet',\n",
    "        include_top=False,\n",
    "        pooling='avg',\n",
    "    )\n",
    "    \n",
    "    for i in range(len(pretrained_model.layers)-27):\n",
    "        pretrained_model.layers[i].trainable = False\n",
    "\n",
    "    encode_model = Sequential([\n",
    "        pretrained_model,\n",
    "        layers.Flatten(),\n",
    "        layers.Dense(512, activation='relu'),\n",
    "        layers.BatchNormalization(),\n",
    "        layers.Dense(256, activation=\"relu\"),\n",
    "        layers.Lambda(lambda x: tf.math.l2_normalize(x, axis=1))\n",
    "    ], name=\"Encode_Model\")\n",
    "    return encode_model"
   ]
  },
  {
   "attachments": {
    "5e83389c-697d-4b02-8b39-81f5eba0ba9e.png": {
     "image/png": "[encoded data removed]"
    }
   },
   "cell_type": "markdown",
   "id": "russian-credits",
   "metadata": {
    "papermill": {
     "duration": 0.03485,
     "end_time": "2024-04-06T00:15:01.028959",
     "exception": false,
     "start_time": "2024-04-06T00:15:00.994109",
     "status": "completed"
    },
    "tags": []
   },
   "source": [
    "### Siamese Network\n",
    "\n",
    "We're creating a **Siamese Network** that takes 3 input images, (anchor, postive, negative) and uses the encoder above to encode the images to their feature vectors. Those features are passed to a distance layer which computes the distance between **(anchor, positive)** and **(anchor, negative)** pairs.\n",
    "\n",
    "We'll be defining a custom layer to compute the distance.\n",
    "\n",
    "**Distance Formula**:\n",
    "\n",
    "![image.png](attachment:5e83389c-697d-4b02-8b39-81f5eba0ba9e.png)"
   ]
  },
  {
   "cell_type": "code",
   "execution_count": 17,
   "id": "determined-energy",
   "metadata": {
    "execution": {
     "iopub.execute_input": "2024-04-06T00:15:01.107679Z",
     "iopub.status.busy": "2024-04-06T00:15:01.106816Z",
     "iopub.status.idle": "2024-04-06T00:15:07.420446Z",
     "shell.execute_reply": "2024-04-06T00:15:07.419892Z",
     "shell.execute_reply.started": "2024-04-06T00:11:55.068763Z"
    },
    "papermill": {
     "duration": 6.356669,
     "end_time": "2024-04-06T00:15:07.420588",
     "exception": false,
     "start_time": "2024-04-06T00:15:01.063919",
     "status": "completed"
    },
    "tags": []
   },
   "outputs": [
    {
     "name": "stdout",
     "output_type": "stream",
     "text": [
      "Downloading data from https://storage.googleapis.com/tensorflow/keras-applications/xception/xception_weights_tf_dim_ordering_tf_kernels_notop.h5\n",
      "83689472/83683744 [==============================] - 0s 0us/step\n",
      "Model: \"Siamese_Network\"\n",
      "__________________________________________________________________________________________________\n",
      "Layer (type)                    Output Shape         Param #     Connected to                     \n",
      "==================================================================================================\n",
      "Anchor_Input (InputLayer)       [(None, 128, 128, 3) 0                                            \n",
      "__________________________________________________________________________________________________\n",
      "Positive_Input (InputLayer)     [(None, 128, 128, 3) 0                                            \n",
      "__________________________________________________________________________________________________\n",
      "Negative_Input (InputLayer)     [(None, 128, 128, 3) 0                                            \n",
      "__________________________________________________________________________________________________\n",
      "Encode_Model (Sequential)       (None, 256)          22043944    Anchor_Input[0][0]               \n",
      "                                                                 Positive_Input[0][0]             \n",
      "                                                                 Negative_Input[0][0]             \n",
      "__________________________________________________________________________________________________\n",
      "distance_layer (DistanceLayer)  ((None,), (None,))   0           Encode_Model[3][0]               \n",
      "                                                                 Encode_Model[4][0]               \n",
      "                                                                 Encode_Model[5][0]               \n",
      "==================================================================================================\n",
      "Total params: 22,043,944\n",
      "Trainable params: 9,583,800\n",
      "Non-trainable params: 12,460,144\n",
      "__________________________________________________________________________________________________\n"
     ]
    }
   ],
   "source": [
    "class DistanceLayer(layers.Layer):\n",
    "    # A layer to compute ‖f(A) - f(P)‖² and ‖f(A) - f(N)‖²\n",
    "    def __init__(self, **kwargs):\n",
    "        super().__init__(**kwargs)\n",
    "\n",
    "    def call(self, anchor, positive, negative):\n",
    "        ap_distance = tf.reduce_sum(tf.square(anchor - positive), -1)\n",
    "        an_distance = tf.reduce_sum(tf.square(anchor - negative), -1)\n",
    "        return (ap_distance, an_distance)\n",
    "    \n",
    "\n",
    "def get_siamese_network(input_shape = (128, 128, 3)):\n",
    "    encoder = get_encoder(input_shape)\n",
    "    \n",
    "    # Input Layers for the images\n",
    "    anchor_input   = layers.Input(input_shape, name=\"Anchor_Input\")\n",
    "    positive_input = layers.Input(input_shape, name=\"Positive_Input\")\n",
    "    negative_input = layers.Input(input_shape, name=\"Negative_Input\")\n",
    "    \n",
    "    ## Generate the encodings (feature vectors) for the images\n",
    "    encoded_a = encoder(anchor_input)\n",
    "    encoded_p = encoder(positive_input)\n",
    "    encoded_n = encoder(negative_input)\n",
    "    \n",
    "    # A layer to compute ‖f(A) - f(P)‖² and ‖f(A) - f(N)‖²\n",
    "    distances = DistanceLayer()(\n",
    "        encoder(anchor_input),\n",
    "        encoder(positive_input),\n",
    "        encoder(negative_input)\n",
    "    )\n",
    "    \n",
    "    # Creating the Model\n",
    "    siamese_network = Model(\n",
    "        inputs  = [anchor_input, positive_input, negative_input],\n",
    "        outputs = distances,\n",
    "        name = \"Siamese_Network\"\n",
    "    )\n",
    "    return siamese_network\n",
    "\n",
    "siamese_network = get_siamese_network()\n",
    "siamese_network.summary()"
   ]
  },
  {
   "cell_type": "code",
   "execution_count": 18,
   "id": "decimal-creek",
   "metadata": {
    "execution": {
     "iopub.execute_input": "2024-04-06T00:15:07.503448Z",
     "iopub.status.busy": "2024-04-06T00:15:07.502724Z",
     "iopub.status.idle": "2024-04-06T00:15:07.978934Z",
     "shell.execute_reply": "2024-04-06T00:15:07.978259Z",
     "shell.execute_reply.started": "2024-04-06T00:12:01.422276Z"
    },
    "papermill": {
     "duration": 0.518663,
     "end_time": "2024-04-06T00:15:07.979092",
     "exception": false,
     "start_time": "2024-04-06T00:15:07.460429",
     "status": "completed"
    },
    "tags": []
   },
   "outputs": [
    {
     "data": {
      "image/png": "[encoded data removed]",
      "text/plain": [
       "<IPython.core.display.Image object>"
      ]
     },
     "execution_count": 18,
     "metadata": {},
     "output_type": "execute_result"
    }
   ],
   "source": [
    "plot_model(siamese_network, show_shapes=True, show_layer_names=True)"
   ]
  },
  {
   "cell_type": "markdown",
   "id": "brown-bracket",
   "metadata": {
    "papermill": {
     "duration": 0.04078,
     "end_time": "2024-04-06T00:15:08.061404",
     "exception": false,
     "start_time": "2024-04-06T00:15:08.020624",
     "status": "completed"
    },
    "tags": []
   },
   "source": [
    "### Putting everything together\n",
    "\n",
    "We now need to implement a model with custom training loop and loss function so we can compute the **triplet loss** using the three embeddings produced by the Siamese network.\n",
    "\n",
    "We'll create a **Mean metric** instance to track the loss of the training process.\n",
    "\n",
    "**Triplet Loss Function:**\n",
    "\n",
    "<img src=\"https://miro.medium.com/max/1838/0*AX2TSZNk19_gDgTN.png\" alt=\"Loss Formula\" width=\"400\"/>"
   ]
  },
  {
   "cell_type": "code",
   "execution_count": 19,
   "id": "distant-arabic",
   "metadata": {
    "execution": {
     "iopub.execute_input": "2024-04-06T00:15:08.154162Z",
     "iopub.status.busy": "2024-04-06T00:15:08.153521Z",
     "iopub.status.idle": "2024-04-06T00:15:08.156002Z",
     "shell.execute_reply": "2024-04-06T00:15:08.156441Z",
     "shell.execute_reply.started": "2024-04-06T00:12:08.666206Z"
    },
    "papermill": {
     "duration": 0.054896,
     "end_time": "2024-04-06T00:15:08.156586",
     "exception": false,
     "start_time": "2024-04-06T00:15:08.101690",
     "status": "completed"
    },
    "tags": []
   },
   "outputs": [],
   "source": [
    "class SiameseModel(Model):\n",
    "    # Builds a Siamese model based on a base-model\n",
    "    def __init__(self, siamese_network, margin=1.0):\n",
    "        super(SiameseModel, self).__init__()\n",
    "        \n",
    "        self.margin = margin\n",
    "        self.siamese_network = siamese_network\n",
    "        self.loss_tracker = metrics.Mean(name=\"loss\")\n",
    "\n",
    "    def call(self, inputs):\n",
    "        return self.siamese_network(inputs)\n",
    "\n",
    "    def train_step(self, data):\n",
    "        # GradientTape get the gradients when we compute loss, and uses them to update the weights\n",
    "        with tf.GradientTape() as tape:\n",
    "            loss = self._compute_loss(data)\n",
    "            \n",
    "        gradients = tape.gradient(loss, self.siamese_network.trainable_weights)\n",
    "        self.optimizer.apply_gradients(zip(gradients, self.siamese_network.trainable_weights))\n",
    "        \n",
    "        self.loss_tracker.update_state(loss)\n",
    "        return {\"loss\": self.loss_tracker.result()}\n",
    "\n",
    "    def test_step(self, data):\n",
    "        loss = self._compute_loss(data)\n",
    "        \n",
    "        self.loss_tracker.update_state(loss)\n",
    "        return {\"loss\": self.loss_tracker.result()}\n",
    "\n",
    "    def _compute_loss(self, data):\n",
    "        # Get the two distances from the network, then compute the triplet loss\n",
    "        ap_distance, an_distance = self.siamese_network(data)\n",
    "        loss = tf.maximum(ap_distance - an_distance + self.margin, 0.0)\n",
    "        return loss\n",
    "\n",
    "    @property\n",
    "    def metrics(self):\n",
    "        # We need to list our metrics so the reset_states() can be called automatically.\n",
    "        return [self.loss_tracker]"
   ]
  },
  {
   "cell_type": "code",
   "execution_count": 20,
   "id": "competitive-estate",
   "metadata": {
    "execution": {
     "iopub.execute_input": "2024-04-06T00:15:08.243963Z",
     "iopub.status.busy": "2024-04-06T00:15:08.243371Z",
     "iopub.status.idle": "2024-04-06T00:15:08.266906Z",
     "shell.execute_reply": "2024-04-06T00:15:08.266332Z",
     "shell.execute_reply.started": "2024-04-06T00:12:09.963938Z"
    },
    "papermill": {
     "duration": 0.070021,
     "end_time": "2024-04-06T00:15:08.267020",
     "exception": false,
     "start_time": "2024-04-06T00:15:08.196999",
     "status": "completed"
    },
    "tags": []
   },
   "outputs": [],
   "source": [
    "siamese_model = SiameseModel(siamese_network)\n",
    "\n",
    "optimizer = Adam(learning_rate=1e-3, epsilon=1e-01)\n",
    "siamese_model.compile(optimizer=optimizer)"
   ]
  },
  {
   "cell_type": "markdown",
   "id": "worse-substitute",
   "metadata": {
    "papermill": {
     "duration": 0.040138,
     "end_time": "2024-04-06T00:15:08.347645",
     "exception": false,
     "start_time": "2024-04-06T00:15:08.307507",
     "status": "completed"
    },
    "tags": []
   },
   "source": [
    "## **Training the Model**\n",
    "\n",
    "We'll now be training the siamese_model on batches of triplets. We'll print the training loss, along with additional metrics from testing every epoch. The model weights will also be saved whenever it outperforms the previous max_accuracy.\n",
    "\n",
    "We're hoping to collect more metrics about the model to evaluate how to increase the accuracy of the model. The epochs have been set to avoid going over Kaggle's time constraint.\n",
    "\n",
    "### Test Function\n",
    "\n",
    "**test_on_triplets()** function will be responsible for testing the model on test_triplets. It'll collect metrics **(accuracy, means, stds)** by predicting on the train data. We'll also be printing the Accuracy of the model after testing."
   ]
  },
  {
   "cell_type": "code",
   "execution_count": 21,
   "id": "interstate-frequency",
   "metadata": {
    "execution": {
     "iopub.execute_input": "2024-04-06T00:15:08.436353Z",
     "iopub.status.busy": "2024-04-06T00:15:08.435670Z",
     "iopub.status.idle": "2024-04-06T00:15:08.438619Z",
     "shell.execute_reply": "2024-04-06T00:15:08.438000Z",
     "shell.execute_reply.started": "2024-04-06T00:12:11.482441Z"
    },
    "papermill": {
     "duration": 0.051008,
     "end_time": "2024-04-06T00:15:08.438743",
     "exception": false,
     "start_time": "2024-04-06T00:15:08.387735",
     "status": "completed"
    },
    "tags": []
   },
   "outputs": [],
   "source": [
    "def test_on_triplets(batch_size = 256):\n",
    "    pos_scores, neg_scores = [], []\n",
    "\n",
    "    for data in get_batch(test_triplet, batch_size=batch_size):\n",
    "        prediction = siamese_model.predict(data)\n",
    "        pos_scores += list(prediction[0])\n",
    "        neg_scores += list(prediction[1])\n",
    "    \n",
    "    accuracy = np.sum(np.array(pos_scores) < np.array(neg_scores)) / len(pos_scores)\n",
    "    ap_mean = np.mean(pos_scores)\n",
    "    an_mean = np.mean(neg_scores)\n",
    "    ap_stds = np.std(pos_scores)\n",
    "    an_stds = np.std(neg_scores)\n",
    "    \n",
    "    print(f\"Accuracy on test = {accuracy:.5f}\")\n",
    "    return (accuracy, ap_mean, an_mean, ap_stds, an_stds)"
   ]
  },
  {
   "cell_type": "code",
   "execution_count": 22,
   "id": "associate-enforcement",
   "metadata": {
    "execution": {
     "iopub.execute_input": "2024-04-06T00:15:08.526438Z",
     "iopub.status.busy": "2024-04-06T00:15:08.525817Z",
     "iopub.status.idle": "2024-04-06T01:25:08.933687Z",
     "shell.execute_reply": "2024-04-06T01:25:08.934223Z"
    },
    "papermill": {
     "duration": 4200.455538,
     "end_time": "2024-04-06T01:25:08.934439",
     "exception": false,
     "start_time": "2024-04-06T00:15:08.478901",
     "status": "completed"
    },
    "tags": []
   },
   "outputs": [
    {
     "name": "stdout",
     "output_type": "stream",
     "text": [
      "\n",
      "EPOCH: 1 \t (Epoch done in 48 sec)\n",
      "Loss on train    = 0.29483\n",
      "Accuracy on test = 1.00000\n",
      "\n",
      "EPOCH: 2 \t (Epoch done in 31 sec)\n",
      "Loss on train    = 0.00108\n",
      "Accuracy on test = 1.00000\n",
      "\n",
      "EPOCH: 3 \t (Epoch done in 32 sec)\n",
      "Loss on train    = 0.00077\n",
      "Accuracy on test = 0.98333\n",
      "\n",
      "EPOCH: 4 \t (Epoch done in 31 sec)\n",
      "Loss on train    = 0.00004\n",
      "Accuracy on test = 0.98333\n",
      "\n",
      "EPOCH: 5 \t (Epoch done in 31 sec)\n",
      "Loss on train    = 0.00007\n",
      "Accuracy on test = 1.00000\n",
      "\n",
      "EPOCH: 6 \t (Epoch done in 31 sec)\n",
      "Loss on train    = 0.00000\n",
      "Accuracy on test = 0.98333\n",
      "\n",
      "EPOCH: 7 \t (Epoch done in 32 sec)\n",
      "Loss on train    = 0.00022\n",
      "Accuracy on test = 1.00000\n",
      "\n",
      "EPOCH: 8 \t (Epoch done in 31 sec)\n",
      "Loss on train    = 0.00001\n",
      "Accuracy on test = 1.00000\n",
      "\n",
      "EPOCH: 9 \t (Epoch done in 31 sec)\n",
      "Loss on train    = 0.00000\n",
      "Accuracy on test = 0.98333\n",
      "\n",
      "EPOCH: 10 \t (Epoch done in 31 sec)\n",
      "Loss on train    = 0.00000\n",
      "Accuracy on test = 0.98333\n",
      "\n",
      "EPOCH: 11 \t (Epoch done in 32 sec)\n",
      "Loss on train    = 0.00000\n",
      "Accuracy on test = 0.98333\n",
      "\n",
      "EPOCH: 12 \t (Epoch done in 32 sec)\n",
      "Loss on train    = 0.00000\n",
      "Accuracy on test = 0.98333\n",
      "\n",
      "EPOCH: 13 \t (Epoch done in 31 sec)\n",
      "Loss on train    = 0.00000\n",
      "Accuracy on test = 0.98333\n",
      "\n",
      "EPOCH: 14 \t (Epoch done in 32 sec)\n",
      "Loss on train    = 0.00000\n",
      "Accuracy on test = 0.98333\n",
      "\n",
      "EPOCH: 15 \t (Epoch done in 31 sec)\n",
      "Loss on train    = 0.00000\n",
      "Accuracy on test = 0.98333\n",
      "\n",
      "EPOCH: 16 \t (Epoch done in 31 sec)\n",
      "Loss on train    = 0.00000\n",
      "Accuracy on test = 0.98333\n",
      "\n",
      "EPOCH: 17 \t (Epoch done in 32 sec)\n",
      "Loss on train    = 0.00000\n",
      "Accuracy on test = 0.98333\n",
      "\n",
      "EPOCH: 18 \t (Epoch done in 32 sec)\n",
      "Loss on train    = 0.00000\n",
      "Accuracy on test = 0.98333\n",
      "\n",
      "EPOCH: 19 \t (Epoch done in 32 sec)\n",
      "Loss on train    = 0.00000\n",
      "Accuracy on test = 0.98333\n",
      "\n",
      "EPOCH: 20 \t (Epoch done in 32 sec)\n",
      "Loss on train    = 0.00000\n",
      "Accuracy on test = 0.98333\n",
      "\n",
      "EPOCH: 21 \t (Epoch done in 32 sec)\n",
      "Loss on train    = 0.00000\n",
      "Accuracy on test = 0.98333\n",
      "\n",
      "EPOCH: 22 \t (Epoch done in 32 sec)\n",
      "Loss on train    = 0.00000\n",
      "Accuracy on test = 0.98333\n",
      "\n",
      "EPOCH: 23 \t (Epoch done in 32 sec)\n",
      "Loss on train    = 0.00000\n",
      "Accuracy on test = 0.98333\n",
      "\n",
      "EPOCH: 24 \t (Epoch done in 31 sec)\n",
      "Loss on train    = 0.00000\n",
      "Accuracy on test = 0.98333\n",
      "\n",
      "EPOCH: 25 \t (Epoch done in 31 sec)\n",
      "Loss on train    = 0.00000\n",
      "Accuracy on test = 0.98333\n",
      "\n",
      "EPOCH: 26 \t (Epoch done in 32 sec)\n",
      "Loss on train    = 0.00000\n",
      "Accuracy on test = 0.98333\n",
      "\n",
      "EPOCH: 27 \t (Epoch done in 32 sec)\n",
      "Loss on train    = 0.00000\n",
      "Accuracy on test = 0.98333\n",
      "\n",
      "EPOCH: 28 \t (Epoch done in 32 sec)\n",
      "Loss on train    = 0.00000\n",
      "Accuracy on test = 0.98333\n",
      "\n",
      "EPOCH: 29 \t (Epoch done in 32 sec)\n",
      "Loss on train    = 0.00000\n",
      "Accuracy on test = 0.98333\n",
      "\n",
      "EPOCH: 30 \t (Epoch done in 32 sec)\n",
      "Loss on train    = 0.00000\n",
      "Accuracy on test = 0.98333\n",
      "\n",
      "EPOCH: 31 \t (Epoch done in 32 sec)\n",
      "Loss on train    = 0.00000\n",
      "Accuracy on test = 0.98333\n",
      "\n",
      "EPOCH: 32 \t (Epoch done in 32 sec)\n",
      "Loss on train    = 0.00000\n",
      "Accuracy on test = 0.98333\n",
      "\n",
      "EPOCH: 33 \t (Epoch done in 31 sec)\n",
      "Loss on train    = 0.00000\n",
      "Accuracy on test = 0.98333\n",
      "\n",
      "EPOCH: 34 \t (Epoch done in 32 sec)\n",
      "Loss on train    = 0.00000\n",
      "Accuracy on test = 0.98333\n",
      "\n",
      "EPOCH: 35 \t (Epoch done in 32 sec)\n",
      "Loss on train    = 0.00000\n",
      "Accuracy on test = 0.98333\n",
      "\n",
      "EPOCH: 36 \t (Epoch done in 32 sec)\n",
      "Loss on train    = 0.00000\n",
      "Accuracy on test = 0.98333\n",
      "\n",
      "EPOCH: 37 \t (Epoch done in 32 sec)\n",
      "Loss on train    = 0.00000\n",
      "Accuracy on test = 0.98333\n",
      "\n",
      "EPOCH: 38 \t (Epoch done in 31 sec)\n",
      "Loss on train    = 0.00000\n",
      "Accuracy on test = 0.98333\n",
      "\n",
      "EPOCH: 39 \t (Epoch done in 31 sec)\n",
      "Loss on train    = 0.00000\n",
      "Accuracy on test = 0.98333\n",
      "\n",
      "EPOCH: 40 \t (Epoch done in 30 sec)\n",
      "Loss on train    = 0.00000\n",
      "Accuracy on test = 0.98333\n",
      "\n",
      "EPOCH: 41 \t (Epoch done in 32 sec)\n",
      "Loss on train    = 0.00000\n",
      "Accuracy on test = 0.98333\n",
      "\n",
      "EPOCH: 42 \t (Epoch done in 31 sec)\n",
      "Loss on train    = 0.00000\n",
      "Accuracy on test = 0.98333\n",
      "\n",
      "EPOCH: 43 \t (Epoch done in 31 sec)\n",
      "Loss on train    = 0.00000\n",
      "Accuracy on test = 0.98333\n",
      "\n",
      "EPOCH: 44 \t (Epoch done in 32 sec)\n",
      "Loss on train    = 0.00000\n",
      "Accuracy on test = 0.98333\n",
      "\n",
      "EPOCH: 45 \t (Epoch done in 32 sec)\n",
      "Loss on train    = 0.00000\n",
      "Accuracy on test = 0.98333\n",
      "\n",
      "EPOCH: 46 \t (Epoch done in 32 sec)\n",
      "Loss on train    = 0.00000\n",
      "Accuracy on test = 0.98333\n",
      "\n",
      "EPOCH: 47 \t (Epoch done in 31 sec)\n",
      "Loss on train    = 0.00000\n",
      "Accuracy on test = 0.98333\n",
      "\n",
      "EPOCH: 48 \t (Epoch done in 31 sec)\n",
      "Loss on train    = 0.00000\n",
      "Accuracy on test = 0.98333\n",
      "\n",
      "EPOCH: 49 \t (Epoch done in 31 sec)\n",
      "Loss on train    = 0.00000\n",
      "Accuracy on test = 0.98333\n",
      "\n",
      "EPOCH: 50 \t (Epoch done in 31 sec)\n",
      "Loss on train    = 0.00000\n",
      "Accuracy on test = 0.98333\n",
      "\n",
      "EPOCH: 51 \t (Epoch done in 31 sec)\n",
      "Loss on train    = 0.00000\n",
      "Accuracy on test = 0.98333\n",
      "\n",
      "EPOCH: 52 \t (Epoch done in 31 sec)\n",
      "Loss on train    = 0.00000\n",
      "Accuracy on test = 0.98333\n",
      "\n",
      "EPOCH: 53 \t (Epoch done in 30 sec)\n",
      "Loss on train    = 0.00000\n",
      "Accuracy on test = 0.98333\n",
      "\n",
      "EPOCH: 54 \t (Epoch done in 31 sec)\n",
      "Loss on train    = 0.00000\n",
      "Accuracy on test = 0.98333\n",
      "\n",
      "EPOCH: 55 \t (Epoch done in 31 sec)\n",
      "Loss on train    = 0.00000\n",
      "Accuracy on test = 0.98333\n",
      "\n",
      "EPOCH: 56 \t (Epoch done in 31 sec)\n",
      "Loss on train    = 0.00000\n",
      "Accuracy on test = 0.98333\n",
      "\n",
      "EPOCH: 57 \t (Epoch done in 31 sec)\n",
      "Loss on train    = 0.00000\n",
      "Accuracy on test = 0.98333\n",
      "\n",
      "EPOCH: 58 \t (Epoch done in 31 sec)\n",
      "Loss on train    = 0.00000\n",
      "Accuracy on test = 0.98333\n",
      "\n",
      "EPOCH: 59 \t (Epoch done in 31 sec)\n",
      "Loss on train    = 0.00000\n",
      "Accuracy on test = 0.98333\n",
      "\n",
      "EPOCH: 60 \t (Epoch done in 31 sec)\n",
      "Loss on train    = 0.00000\n",
      "Accuracy on test = 0.98333\n",
      "\n",
      "EPOCH: 61 \t (Epoch done in 32 sec)\n",
      "Loss on train    = 0.00000\n",
      "Accuracy on test = 0.98333\n",
      "\n",
      "EPOCH: 62 \t (Epoch done in 31 sec)\n",
      "Loss on train    = 0.00000\n",
      "Accuracy on test = 0.98333\n",
      "\n",
      "EPOCH: 63 \t (Epoch done in 32 sec)\n",
      "Loss on train    = 0.00000\n",
      "Accuracy on test = 0.98333\n",
      "\n",
      "EPOCH: 64 \t (Epoch done in 31 sec)\n",
      "Loss on train    = 0.00000\n",
      "Accuracy on test = 0.98333\n",
      "\n",
      "EPOCH: 65 \t (Epoch done in 31 sec)\n",
      "Loss on train    = 0.00000\n",
      "Accuracy on test = 0.98333\n",
      "\n",
      "EPOCH: 66 \t (Epoch done in 31 sec)\n",
      "Loss on train    = 0.00000\n",
      "Accuracy on test = 0.98333\n",
      "\n",
      "EPOCH: 67 \t (Epoch done in 31 sec)\n",
      "Loss on train    = 0.00000\n",
      "Accuracy on test = 0.98333\n",
      "\n",
      "EPOCH: 68 \t (Epoch done in 31 sec)\n",
      "Loss on train    = 0.00000\n",
      "Accuracy on test = 0.98333\n",
      "\n",
      "EPOCH: 69 \t (Epoch done in 31 sec)\n",
      "Loss on train    = 0.00000\n",
      "Accuracy on test = 0.98333\n",
      "\n",
      "EPOCH: 70 \t (Epoch done in 31 sec)\n",
      "Loss on train    = 0.00000\n",
      "Accuracy on test = 0.98333\n",
      "\n",
      "EPOCH: 71 \t (Epoch done in 31 sec)\n",
      "Loss on train    = 0.00000\n",
      "Accuracy on test = 0.98333\n",
      "\n",
      "EPOCH: 72 \t (Epoch done in 31 sec)\n",
      "Loss on train    = 0.00000\n",
      "Accuracy on test = 0.98333\n",
      "\n",
      "EPOCH: 73 \t (Epoch done in 31 sec)\n",
      "Loss on train    = 0.00000\n",
      "Accuracy on test = 0.98333\n",
      "\n",
      "EPOCH: 74 \t (Epoch done in 32 sec)\n",
      "Loss on train    = 0.00000\n",
      "Accuracy on test = 0.98333\n",
      "\n",
      "EPOCH: 75 \t (Epoch done in 31 sec)\n",
      "Loss on train    = 0.00000\n",
      "Accuracy on test = 0.98333\n",
      "\n",
      "EPOCH: 76 \t (Epoch done in 31 sec)\n",
      "Loss on train    = 0.00000\n",
      "Accuracy on test = 0.98333\n",
      "\n",
      "EPOCH: 77 \t (Epoch done in 31 sec)\n",
      "Loss on train    = 0.00000\n",
      "Accuracy on test = 0.98333\n",
      "\n",
      "EPOCH: 78 \t (Epoch done in 31 sec)\n",
      "Loss on train    = 0.00000\n",
      "Accuracy on test = 0.98333\n",
      "\n",
      "EPOCH: 79 \t (Epoch done in 31 sec)\n",
      "Loss on train    = 0.00000\n",
      "Accuracy on test = 0.98333\n",
      "\n",
      "EPOCH: 80 \t (Epoch done in 31 sec)\n",
      "Loss on train    = 0.00000\n",
      "Accuracy on test = 0.98333\n",
      "\n",
      "EPOCH: 81 \t (Epoch done in 31 sec)\n",
      "Loss on train    = 0.00000\n",
      "Accuracy on test = 0.98333\n",
      "\n",
      "EPOCH: 82 \t (Epoch done in 31 sec)\n",
      "Loss on train    = 0.00000\n",
      "Accuracy on test = 0.98333\n",
      "\n",
      "EPOCH: 83 \t (Epoch done in 31 sec)\n",
      "Loss on train    = 0.00000\n",
      "Accuracy on test = 0.98333\n",
      "\n",
      "EPOCH: 84 \t (Epoch done in 31 sec)\n",
      "Loss on train    = 0.00000\n",
      "Accuracy on test = 0.98333\n",
      "\n",
      "EPOCH: 85 \t (Epoch done in 31 sec)\n",
      "Loss on train    = 0.00000\n",
      "Accuracy on test = 0.98333\n",
      "\n",
      "EPOCH: 86 \t (Epoch done in 31 sec)\n",
      "Loss on train    = 0.00000\n",
      "Accuracy on test = 0.98333\n",
      "\n",
      "EPOCH: 87 \t (Epoch done in 31 sec)\n",
      "Loss on train    = 0.00000\n",
      "Accuracy on test = 0.98333\n",
      "\n",
      "EPOCH: 88 \t (Epoch done in 30 sec)\n",
      "Loss on train    = 0.00000\n",
      "Accuracy on test = 0.98333\n",
      "\n",
      "EPOCH: 89 \t (Epoch done in 31 sec)\n",
      "Loss on train    = 0.00000\n",
      "Accuracy on test = 0.98333\n",
      "\n",
      "EPOCH: 90 \t (Epoch done in 31 sec)\n",
      "Loss on train    = 0.00000\n",
      "Accuracy on test = 0.98333\n",
      "\n",
      "EPOCH: 91 \t (Epoch done in 32 sec)\n",
      "Loss on train    = 0.00000\n",
      "Accuracy on test = 0.98333\n",
      "\n",
      "EPOCH: 92 \t (Epoch done in 31 sec)\n",
      "Loss on train    = 0.00000\n",
      "Accuracy on test = 0.98333\n",
      "\n",
      "EPOCH: 93 \t (Epoch done in 31 sec)\n",
      "Loss on train    = 0.00000\n",
      "Accuracy on test = 0.98333\n",
      "\n",
      "EPOCH: 94 \t (Epoch done in 32 sec)\n",
      "Loss on train    = 0.00000\n",
      "Accuracy on test = 0.98333\n",
      "\n",
      "EPOCH: 95 \t (Epoch done in 31 sec)\n",
      "Loss on train    = 0.00000\n",
      "Accuracy on test = 0.98333\n",
      "\n",
      "EPOCH: 96 \t (Epoch done in 31 sec)\n",
      "Loss on train    = 0.00000\n",
      "Accuracy on test = 0.98333\n",
      "\n",
      "EPOCH: 97 \t (Epoch done in 31 sec)\n",
      "Loss on train    = 0.00000\n",
      "Accuracy on test = 0.98333\n",
      "\n",
      "EPOCH: 98 \t (Epoch done in 31 sec)\n",
      "Loss on train    = 0.00000\n",
      "Accuracy on test = 0.98333\n",
      "\n",
      "EPOCH: 99 \t (Epoch done in 31 sec)\n",
      "Loss on train    = 0.00000\n",
      "Accuracy on test = 0.98333\n",
      "\n",
      "EPOCH: 100 \t (Epoch done in 32 sec)\n",
      "Loss on train    = 0.00000\n",
      "Accuracy on test = 0.98333\n",
      "\n",
      "EPOCH: 101 \t (Epoch done in 31 sec)\n",
      "Loss on train    = 0.00000\n",
      "Accuracy on test = 0.98333\n",
      "\n",
      "EPOCH: 102 \t (Epoch done in 31 sec)\n",
      "Loss on train    = 0.00000\n",
      "Accuracy on test = 0.98333\n",
      "\n",
      "EPOCH: 103 \t (Epoch done in 31 sec)\n",
      "Loss on train    = 0.00000\n",
      "Accuracy on test = 0.98333\n",
      "\n",
      "EPOCH: 104 \t (Epoch done in 31 sec)\n",
      "Loss on train    = 0.00000\n",
      "Accuracy on test = 0.98333\n",
      "\n",
      "EPOCH: 105 \t (Epoch done in 31 sec)\n",
      "Loss on train    = 0.00000\n",
      "Accuracy on test = 0.98333\n",
      "\n",
      "EPOCH: 106 \t (Epoch done in 31 sec)\n",
      "Loss on train    = 0.00000\n",
      "Accuracy on test = 0.98333\n",
      "\n",
      "EPOCH: 107 \t (Epoch done in 31 sec)\n",
      "Loss on train    = 0.00000\n",
      "Accuracy on test = 0.98333\n",
      "\n",
      "EPOCH: 108 \t (Epoch done in 31 sec)\n",
      "Loss on train    = 0.00000\n",
      "Accuracy on test = 0.98333\n",
      "\n",
      "EPOCH: 109 \t (Epoch done in 31 sec)\n",
      "Loss on train    = 0.00000\n",
      "Accuracy on test = 0.98333\n",
      "\n",
      "EPOCH: 110 \t (Epoch done in 31 sec)\n",
      "Loss on train    = 0.00000\n",
      "Accuracy on test = 0.98333\n",
      "\n",
      "EPOCH: 111 \t (Epoch done in 30 sec)\n",
      "Loss on train    = 0.00000\n",
      "Accuracy on test = 0.98333\n",
      "\n",
      "EPOCH: 112 \t (Epoch done in 30 sec)\n",
      "Loss on train    = 0.00000\n",
      "Accuracy on test = 0.98333\n",
      "\n",
      "EPOCH: 113 \t (Epoch done in 31 sec)\n",
      "Loss on train    = 0.00000\n",
      "Accuracy on test = 0.98333\n",
      "\n",
      "EPOCH: 114 \t (Epoch done in 30 sec)\n",
      "Loss on train    = 0.00000\n",
      "Accuracy on test = 0.98333\n",
      "\n",
      "EPOCH: 115 \t (Epoch done in 31 sec)\n",
      "Loss on train    = 0.00000\n",
      "Accuracy on test = 0.98333\n",
      "\n",
      "EPOCH: 116 \t (Epoch done in 30 sec)\n",
      "Loss on train    = 0.00000\n",
      "Accuracy on test = 0.98333\n",
      "\n",
      "EPOCH: 117 \t (Epoch done in 30 sec)\n",
      "Loss on train    = 0.00000\n",
      "Accuracy on test = 0.98333\n",
      "\n",
      "EPOCH: 118 \t (Epoch done in 29 sec)\n",
      "Loss on train    = 0.00000\n",
      "Accuracy on test = 0.98333\n",
      "\n",
      "EPOCH: 119 \t (Epoch done in 31 sec)\n",
      "Loss on train    = 0.00000\n",
      "Accuracy on test = 0.98333\n",
      "\n",
      "EPOCH: 120 \t (Epoch done in 30 sec)\n",
      "Loss on train    = 0.00000\n",
      "Accuracy on test = 0.98333\n",
      "\n",
      "EPOCH: 121 \t (Epoch done in 30 sec)\n",
      "Loss on train    = 0.00000\n",
      "Accuracy on test = 0.98333\n",
      "\n",
      "EPOCH: 122 \t (Epoch done in 30 sec)\n",
      "Loss on train    = 0.00000\n",
      "Accuracy on test = 0.98333\n",
      "\n",
      "EPOCH: 123 \t (Epoch done in 32 sec)\n",
      "Loss on train    = 0.00000\n",
      "Accuracy on test = 0.98333\n",
      "\n",
      "EPOCH: 124 \t (Epoch done in 33 sec)\n",
      "Loss on train    = 0.00000\n",
      "Accuracy on test = 0.98333\n",
      "\n",
      "EPOCH: 125 \t (Epoch done in 32 sec)\n",
      "Loss on train    = 0.00000\n",
      "Accuracy on test = 0.98333\n",
      "\n",
      "EPOCH: 126 \t (Epoch done in 33 sec)\n",
      "Loss on train    = 0.00000\n",
      "Accuracy on test = 0.98333\n",
      "\n",
      "EPOCH: 127 \t (Epoch done in 30 sec)\n",
      "Loss on train    = 0.00000\n",
      "Accuracy on test = 0.98333\n",
      "\n",
      "EPOCH: 128 \t (Epoch done in 31 sec)\n",
      "Loss on train    = 0.00000\n",
      "Accuracy on test = 0.98333\n"
     ]
    }
   ],
   "source": [
    "save_all = False\n",
    "epochs = 128\n",
    "batch_size = 128\n",
    "\n",
    "max_acc = 0\n",
    "train_loss = []\n",
    "test_metrics = []\n",
    "\n",
    "for epoch in range(1, epochs+1):\n",
    "    t = time.time()\n",
    "    \n",
    "    # Training the model on train data\n",
    "    epoch_loss = []\n",
    "    for data in get_batch(train_triplet, batch_size=batch_size):\n",
    "        loss = siamese_model.train_on_batch(data)\n",
    "        epoch_loss.append(loss)\n",
    "    epoch_loss = sum(epoch_loss)/len(epoch_loss)\n",
    "    train_loss.append(epoch_loss)\n",
    "\n",
    "    print(f\"\\nEPOCH: {epoch} \\t (Epoch done in {int(time.time()-t)} sec)\")\n",
    "    print(f\"Loss on train    = {epoch_loss:.5f}\")\n",
    "    \n",
    "    # Testing the model on test data\n",
    "    metric = test_on_triplets(batch_size=batch_size)\n",
    "    test_metrics.append(metric)\n",
    "    accuracy = metric[0]\n",
    "    \n",
    "    # Saving the model weights\n",
    "    if save_all or accuracy>=max_acc:\n",
    "        siamese_model.save_weights(\"siamese_model\")\n",
    "        max_acc = accuracy\n",
    "\n",
    "# Saving the model after all epochs run\n",
    "siamese_model.save_weights(\"siamese_model-final\")"
   ]
  },
  {
   "cell_type": "markdown",
   "id": "surgical-production",
   "metadata": {
    "papermill": {
     "duration": 0.122937,
     "end_time": "2024-04-06T01:25:09.180511",
     "exception": false,
     "start_time": "2024-04-06T01:25:09.057574",
     "status": "completed"
    },
    "tags": []
   },
   "source": [
    "## **Evaluating the Model**\n"
   ]
  },
  {
   "cell_type": "code",
   "execution_count": 23,
   "id": "designed-clearing",
   "metadata": {
    "execution": {
     "iopub.execute_input": "2024-04-06T01:25:09.481625Z",
     "iopub.status.busy": "2024-04-06T01:25:09.460649Z",
     "iopub.status.idle": "2024-04-06T01:25:10.059320Z",
     "shell.execute_reply": "2024-04-06T01:25:10.058805Z"
    },
    "papermill": {
     "duration": 0.757715,
     "end_time": "2024-04-06T01:25:10.059476",
     "exception": false,
     "start_time": "2024-04-06T01:25:09.301761",
     "status": "completed"
    },
    "tags": []
   },
   "outputs": [
    {
     "data": {
      "image/png": "[encoded data removed]",
      "text/plain": [
       "<Figure size 1080x360 with 2 Axes>"
      ]
     },
     "metadata": {
      "needs_background": "light"
     },
     "output_type": "display_data"
    },
    {
     "data": {
      "image/png": "[encoded data removed]",
      "text/plain": [
       "<Figure size 1080x360 with 2 Axes>"
      ]
     },
     "metadata": {
      "needs_background": "light"
     },
     "output_type": "display_data"
    }
   ],
   "source": [
    "def plot_metrics(loss, metrics):\n",
    "    # Extracting individual metrics from metrics\n",
    "    accuracy = metrics[:, 0]\n",
    "    ap_mean  = metrics[:, 1]\n",
    "    an_mean  = metrics[:, 2]\n",
    "    ap_stds  = metrics[:, 3]\n",
    "    an_stds  = metrics[:, 4]\n",
    "    \n",
    "    plt.figure(figsize=(15,5))\n",
    "    \n",
    "    # Plotting the loss over epochs\n",
    "    plt.subplot(121)\n",
    "    plt.plot(loss, 'b', label='Loss')\n",
    "    plt.title('Training loss')\n",
    "    plt.legend()\n",
    "    \n",
    "    # Plotting the accuracy over epochs\n",
    "    plt.subplot(122)\n",
    "    plt.plot(accuracy, 'r', label='Accuracy')\n",
    "    plt.title('Testing Accuracy')\n",
    "    plt.legend()\n",
    "    \n",
    "    plt.figure(figsize=(15,5))\n",
    "    \n",
    "    # Comparing the Means over epochs\n",
    "    plt.subplot(121)\n",
    "    plt.plot(ap_mean, 'b', label='AP Mean')\n",
    "    plt.plot(an_mean, 'g', label='AN Mean')\n",
    "    plt.title('Means Comparision')\n",
    "    plt.legend()\n",
    "    \n",
    "    # Plotting the accuracy\n",
    "    ap_75quartile = (ap_mean+ap_stds)\n",
    "    an_75quartile = (an_mean-an_stds)\n",
    "    plt.subplot(122)\n",
    "    plt.plot(ap_75quartile, 'b', label='AP (Mean+SD)')\n",
    "    plt.plot(an_75quartile, 'g', label='AN (Mean-SD)')\n",
    "    plt.title('75th Quartile Comparision')\n",
    "    plt.legend()\n",
    "\n",
    "test_metrics = np.array(test_metrics)\n",
    "plot_metrics(train_loss, test_metrics)"
   ]
  },
  {
   "cell_type": "markdown",
   "id": "speaking-express",
   "metadata": {
    "papermill": {
     "duration": 0.124642,
     "end_time": "2024-04-06T01:25:10.310685",
     "exception": false,
     "start_time": "2024-04-06T01:25:10.186043",
     "status": "completed"
    },
    "tags": []
   },
   "source": [
    "## **Using the Model**\n",
    "\n",
    "Now that we've finished training our model, we need to **extract the encoder** so that we can use it to encode images and then get use the feature vectors to compute the distance between those images.\n",
    "\n",
    "We'll also be saving the encoder for latter use."
   ]
  },
  {
   "cell_type": "code",
   "execution_count": 24,
   "id": "fifty-think",
   "metadata": {
    "execution": {
     "iopub.execute_input": "2024-04-06T01:25:10.569843Z",
     "iopub.status.busy": "2024-04-06T01:25:10.569156Z",
     "iopub.status.idle": "2024-04-06T01:25:12.506504Z",
     "shell.execute_reply": "2024-04-06T01:25:12.505892Z"
    },
    "papermill": {
     "duration": 2.07146,
     "end_time": "2024-04-06T01:25:12.506641",
     "exception": false,
     "start_time": "2024-04-06T01:25:10.435181",
     "status": "completed"
    },
    "tags": []
   },
   "outputs": [
    {
     "name": "stdout",
     "output_type": "stream",
     "text": [
      "Model: \"Encode_Model\"\n",
      "_________________________________________________________________\n",
      "Layer (type)                 Output Shape              Param #   \n",
      "=================================================================\n",
      "xception (Functional)        (None, 2048)              20861480  \n",
      "_________________________________________________________________\n",
      "flatten_1 (Flatten)          (None, 2048)              0         \n",
      "_________________________________________________________________\n",
      "dense_2 (Dense)              (None, 512)               1049088   \n",
      "_________________________________________________________________\n",
      "batch_normalization_9 (Batch (None, 512)               2048      \n",
      "_________________________________________________________________\n",
      "dense_3 (Dense)              (None, 256)               131328    \n",
      "_________________________________________________________________\n",
      "lambda_1 (Lambda)            (None, 256)               0         \n",
      "=================================================================\n",
      "Total params: 22,043,944\n",
      "Trainable params: 9,583,800\n",
      "Non-trainable params: 12,460,144\n",
      "_________________________________________________________________\n"
     ]
    }
   ],
   "source": [
    "def extract_encoder(model):\n",
    "    encoder = get_encoder((128, 128, 3))\n",
    "    i=0\n",
    "    for e_layer in model.layers[0].layers[3].layers:\n",
    "        layer_weight = e_layer.get_weights()\n",
    "        encoder.layers[i].set_weights(layer_weight)\n",
    "        i+=1\n",
    "    return encoder\n",
    "\n",
    "encoder = extract_encoder(siamese_model)\n",
    "encoder.save_weights(\"encoder\")\n",
    "encoder.summary()"
   ]
  },
  {
   "cell_type": "markdown",
   "id": "moral-martial",
   "metadata": {
    "papermill": {
     "duration": 0.126296,
     "end_time": "2024-04-06T01:25:12.757996",
     "exception": false,
     "start_time": "2024-04-06T01:25:12.631700",
     "status": "completed"
    },
    "tags": []
   },
   "source": [
    "### Classify Images\n",
    "\n",
    "To compute the distance between the encodings of the images, we'll be using distance formula. Distance over a certain threshold to be \"different\" and below the threshold as \"same\"."
   ]
  },
  {
   "cell_type": "code",
   "execution_count": 25,
   "id": "laughing-panama",
   "metadata": {
    "execution": {
     "iopub.execute_input": "2024-04-06T01:25:13.017475Z",
     "iopub.status.busy": "2024-04-06T01:25:13.016580Z",
     "iopub.status.idle": "2024-04-06T01:25:13.019604Z",
     "shell.execute_reply": "2024-04-06T01:25:13.018976Z"
    },
    "papermill": {
     "duration": 0.135592,
     "end_time": "2024-04-06T01:25:13.019775",
     "exception": false,
     "start_time": "2024-04-06T01:25:12.884183",
     "status": "completed"
    },
    "tags": []
   },
   "outputs": [],
   "source": [
    "def classify_images(face_list1, face_list2, threshold=1.3):\n",
    "    # Getting the encodings for the passed faces\n",
    "    tensor1 = encoder.predict(face_list1)\n",
    "    tensor2 = encoder.predict(face_list2)\n",
    "    \n",
    "    distance = np.sum(np.square(tensor1-tensor2), axis=-1)\n",
    "    prediction = np.where(distance<=threshold, 0, 1)\n",
    "    return prediction"
   ]
  },
  {
   "cell_type": "code",
   "execution_count": 26,
   "id": "decent-aaron",
   "metadata": {
    "execution": {
     "iopub.execute_input": "2024-04-06T01:25:13.287676Z",
     "iopub.status.busy": "2024-04-06T01:25:13.287024Z",
     "iopub.status.idle": "2024-04-06T01:25:15.558186Z",
     "shell.execute_reply": "2024-04-06T01:25:15.557589Z"
    },
    "papermill": {
     "duration": 2.410715,
     "end_time": "2024-04-06T01:25:15.558354",
     "exception": false,
     "start_time": "2024-04-06T01:25:13.147639",
     "status": "completed"
    },
    "tags": []
   },
   "outputs": [
    {
     "name": "stdout",
     "output_type": "stream",
     "text": [
      "\n",
      "Accuracy of model: 0.975\n",
      "\n"
     ]
    },
    {
     "data": {
      "image/png": "[encoded data removed]",
      "text/plain": [
       "<Figure size 432x288 with 2 Axes>"
      ]
     },
     "metadata": {
      "needs_background": "light"
     },
     "output_type": "display_data"
    }
   ],
   "source": [
    "def ModelMetrics(pos_list, neg_list):\n",
    "    true = np.array([0]*len(pos_list)+[1]*len(neg_list))\n",
    "    pred = np.append(pos_list, neg_list)\n",
    "    \n",
    "    # Compute and print the accuracy\n",
    "    print(f\"\\nAccuracy of model: {accuracy_score(true, pred)}\\n\")\n",
    "    \n",
    "    # Compute and plot the Confusion matrix\n",
    "    cf_matrix = confusion_matrix(true, pred)\n",
    "\n",
    "    categories  = ['Similar','Different']\n",
    "    names = ['True Similar','False Similar', 'False Different','True Different']\n",
    "    percentages = ['{0:.2%}'.format(value) for value in cf_matrix.flatten() / np.sum(cf_matrix)]\n",
    "\n",
    "    labels = [f'{v1}\\n{v2}' for v1, v2 in zip(names, percentages)]\n",
    "    labels = np.asarray(labels).reshape(2,2)\n",
    "\n",
    "    sns.heatmap(cf_matrix, annot = labels, cmap = 'Blues',fmt = '',\n",
    "                xticklabels = categories, yticklabels = categories)\n",
    "\n",
    "    plt.xlabel(\"Predicted\", fontdict = {'size':14}, labelpad = 10)\n",
    "    plt.ylabel(\"Actual\"   , fontdict = {'size':14}, labelpad = 10)\n",
    "    plt.title (\"Confusion Matrix\", fontdict = {'size':18}, pad = 20)\n",
    "\n",
    "\n",
    "pos_list = np.array([])\n",
    "neg_list = np.array([])\n",
    "\n",
    "for data in get_batch(test_triplet, batch_size=256):\n",
    "    a, p, n = data\n",
    "    pos_list = np.append(pos_list, classify_images(a, p))\n",
    "    neg_list = np.append(neg_list, classify_images(a, n))\n",
    "    break\n",
    "\n",
    "ModelMetrics(pos_list, neg_list)"
   ]
  },
  {
   "cell_type": "markdown",
   "id": "exempt-scope",
   "metadata": {
    "papermill": {
     "duration": 0.126402,
     "end_time": "2024-04-06T01:25:15.811596",
     "exception": false,
     "start_time": "2024-04-06T01:25:15.685194",
     "status": "completed"
    },
    "tags": []
   },
   "source": [
    "## References\n",
    "\n",
    "- FaceNet: A Unified Embedding for Face Recognition and Clustering: https://arxiv.org/abs/1503.03832\n",
    "- Image similarity estimation using a Siamese Network with a triplet loss: https://keras.io/examples/vision/siamese_network/\n",
    "- Celebrity Face Recognition: https://www.kaggle.com/ravehgillmore/celebrity-face-recognition/\n",
    "- Face Recognition using Siamese Networks: https://medium.com/wicds/face-recognition-using-siamese-networks-84d6f2e54ea4\n"
   ]
  }
 ],
 "metadata": {
  "kaggle": {
   "accelerator": "gpu",
   "dataSources": [
    {
     "datasetId": 19136,
     "sourceId": 796646,
     "sourceType": "datasetVersion"
    },
    {
     "datasetId": 1365967,
     "sourceId": 2415961,
     "sourceType": "datasetVersion"
    },
    {
     "datasetId": 4740287,
     "sourceId": 8040308,
     "sourceType": "datasetVersion"
    },
    {
     "sourceId": 68244139,
     "sourceType": "kernelVersion"
    },
    {
     "sourceId": 68370216,
     "sourceType": "kernelVersion"
    }
   ],
   "dockerImageVersionId": 30097,
   "isGpuEnabled": true,
   "isInternetEnabled": true,
   "language": "python",
   "sourceType": "notebook"
  },
  "kernelspec": {
   "display_name": "Python 3",
   "language": "python",
   "name": "python3"
  },
  "language_info": {
   "codemirror_mode": {
    "name": "ipython",
    "version": 3
   },
   "file_extension": ".py",
   "mimetype": "text/x-python",
   "name": "python",
   "nbconvert_exporter": "python",
   "pygments_lexer": "ipython3",
   "version": "3.7.10"
  },
  "papermill": {
   "default_parameters": {},
   "duration": 4234.863846,
   "end_time": "2024-04-06T01:25:19.162073",
   "environment_variables": {},
   "exception": null,
   "input_path": "__notebook__.ipynb",
   "output_path": "__notebook__.ipynb",
   "parameters": {},
   "start_time": "2024-04-06T00:14:44.298227",
   "version": "2.3.3"
  }
 },
 "nbformat": 4,
 "nbformat_minor": 5
}
